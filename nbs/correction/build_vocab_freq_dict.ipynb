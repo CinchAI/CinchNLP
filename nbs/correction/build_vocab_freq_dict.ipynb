{
  "nbformat": 4,
  "nbformat_minor": 0,
  "metadata": {
    "colab": {
      "name": "build-vocab-freq-dict.ipynb",
      "provenance": [],
      "collapsed_sections": []
    },
    "kernelspec": {
      "name": "python3",
      "display_name": "Python 3"
    },
    "language_info": {
      "name": "python"
    }
  },
  "cells": [
    {
      "cell_type": "code",
      "metadata": {
        "id": "sSRKepnqrMIg"
      },
      "source": [
        "! pip install -q hazm\n",
        "! pip install -q emoji"
      ],
      "execution_count": 1,
      "outputs": []
    },
    {
      "cell_type": "code",
      "metadata": {
        "id": "fsxp2Drkdw1F"
      },
      "source": [
        "import pandas as pd\n",
        "from pathlib import Path\n",
        "import re\n",
        "from collections import Counter\n",
        "import joblib\n",
        "\n",
        "import hazm\n",
        "import emoji"
      ],
      "execution_count": 24,
      "outputs": []
    },
    {
      "cell_type": "code",
      "metadata": {
        "colab": {
          "base_uri": "https://localhost:8080/"
        },
        "id": "axljXeFCiFdt",
        "outputId": "d79932fa-ee98-4d0c-f8d9-a4b09af3d8ff"
      },
      "source": [
        "from google.colab import drive\n",
        "drive.mount('/content/drive')"
      ],
      "execution_count": 4,
      "outputs": [
        {
          "output_type": "stream",
          "text": [
            "Drive already mounted at /content/drive; to attempt to forcibly remount, call drive.mount(\"/content/drive\", force_remount=True).\n"
          ],
          "name": "stdout"
        }
      ]
    },
    {
      "cell_type": "code",
      "metadata": {
        "id": "I4SbxY1Fr_Zh"
      },
      "source": [
        "normalizer = hazm.Normalizer()\n",
        "\n",
        "def normalize(text):\n",
        "    return normalizer.normalize(str(text))\n",
        "\n",
        "def remove_emojis(text):\n",
        "    return re.sub(emoji.get_emoji_regexp(), \" \", str(text))\n",
        "\n",
        "def remove_extra_spaces(text):\n",
        "    return ' '.join([token for token in str(text).split()])\n",
        "\n",
        "def remove_punctuation(text, exclude_list=None, trim_spaces=True):\n",
        "    preserve_list = \"^0-9\\u0621-\\u063F\\u0641-\\u064A\\u0661-\\u0669\\u06F0-\\u06F9\\u06A9\\u06AF\\u06BE\\u06C1\\u06CC\" \\\n",
        "                    \"\\u06D5\\uFB8A\\u067E\\u0686\\u0698\"\n",
        "    if type(exclude_list) == list and len(exclude_list) > 0:\n",
        "        exclude_list_str = ''.join([str(token) for token in exclude_list])\n",
        "    else:\n",
        "        exclude_list_str = ''\n",
        "    rule_str = f\"[{preserve_list + exclude_list_str}]\"\n",
        "    rule = re.compile(rule_str)\n",
        "    punc_removed = rule.sub(' ', str(text))\n",
        "    if trim_spaces:\n",
        "        return remove_extra_spaces(punc_removed)\n",
        "    return punc_removed\n",
        "\n",
        "def process(text):\n",
        "    text = normalize(text)\n",
        "    text = remove_emojis(text)\n",
        "    text = remove_punctuation(text)\n",
        "    return text"
      ],
      "execution_count": 5,
      "outputs": []
    },
    {
      "cell_type": "code",
      "metadata": {
        "id": "BD1rDV7uiMsD"
      },
      "source": [
        "data_dir = Path('/content/drive/MyDrive/ContentAI/Data')\n",
        "wiki_txt = data_dir / 'WIKI/WikiText.txt'\n",
        "wiki_csv = data_dir / 'WIKI/WikiText.csv'"
      ],
      "execution_count": 6,
      "outputs": []
    },
    {
      "cell_type": "code",
      "metadata": {
        "colab": {
          "base_uri": "https://localhost:8080/"
        },
        "id": "hCj4PA3riMpP",
        "outputId": "f0367f34-3eb3-440c-9c6d-1d987c50ca4f"
      },
      "source": [
        "df = pd.read_csv(wiki_csv)\n",
        "df.shape"
      ],
      "execution_count": 7,
      "outputs": [
        {
          "output_type": "execute_result",
          "data": {
            "text/plain": [
              "(71600, 1)"
            ]
          },
          "metadata": {
            "tags": []
          },
          "execution_count": 7
        }
      ]
    },
    {
      "cell_type": "code",
      "metadata": {
        "colab": {
          "base_uri": "https://localhost:8080/",
          "height": 195
        },
        "id": "Lefe_t91iMma",
        "outputId": "652d2ea3-7373-428c-e133-d76d16bb40a0"
      },
      "source": [
        "df.head()"
      ],
      "execution_count": 8,
      "outputs": [
        {
          "output_type": "execute_result",
          "data": {
            "text/html": [
              "<div>\n",
              "<style scoped>\n",
              "    .dataframe tbody tr th:only-of-type {\n",
              "        vertical-align: middle;\n",
              "    }\n",
              "\n",
              "    .dataframe tbody tr th {\n",
              "        vertical-align: top;\n",
              "    }\n",
              "\n",
              "    .dataframe thead th {\n",
              "        text-align: right;\n",
              "    }\n",
              "</style>\n",
              "<table border=\"1\" class=\"dataframe\">\n",
              "  <thead>\n",
              "    <tr style=\"text-align: right;\">\n",
              "      <th></th>\n",
              "      <th>text</th>\n",
              "    </tr>\n",
              "  </thead>\n",
              "  <tbody>\n",
              "    <tr>\n",
              "      <th>0</th>\n",
              "      <td>تالار اجتماعات مربوط به دوره معاصر است و در شه...</td>\n",
              "    </tr>\n",
              "    <tr>\n",
              "      <th>1</th>\n",
              "      <td>خانه یک اتاقه مربوط به دوره معاصر است و در شهر...</td>\n",
              "    </tr>\n",
              "    <tr>\n",
              "      <th>2</th>\n",
              "      <td>انبار برنج مربوط به دوره معاصر است و در شهرستا...</td>\n",
              "    </tr>\n",
              "    <tr>\n",
              "      <th>3</th>\n",
              "      <td>بنای چایخانه موزه میراث روستایی مربوط به دوره ...</td>\n",
              "    </tr>\n",
              "    <tr>\n",
              "      <th>4</th>\n",
              "      <td>تپه گرجیان مربوط به هزاره ۴ قبل از میلاد تا هز...</td>\n",
              "    </tr>\n",
              "  </tbody>\n",
              "</table>\n",
              "</div>"
            ],
            "text/plain": [
              "                                                text\n",
              "0  تالار اجتماعات مربوط به دوره معاصر است و در شه...\n",
              "1  خانه یک اتاقه مربوط به دوره معاصر است و در شهر...\n",
              "2  انبار برنج مربوط به دوره معاصر است و در شهرستا...\n",
              "3  بنای چایخانه موزه میراث روستایی مربوط به دوره ...\n",
              "4  تپه گرجیان مربوط به هزاره ۴ قبل از میلاد تا هز..."
            ]
          },
          "metadata": {
            "tags": []
          },
          "execution_count": 8
        }
      ]
    },
    {
      "cell_type": "code",
      "metadata": {
        "colab": {
          "base_uri": "https://localhost:8080/",
          "height": 69
        },
        "id": "sKgMOAeViMj3",
        "outputId": "b4a5fff4-7342-4ae0-b0ea-4b205a5d643d"
      },
      "source": [
        "df.loc[13213, 'text']"
      ],
      "execution_count": 11,
      "outputs": [
        {
          "output_type": "execute_result",
          "data": {
            "application/vnd.google.colaboratory.intrinsic+json": {
              "type": "string"
            },
            "text/plain": [
              "'سوبارو ویویو (Subaru Vivio) خودرویی است که در سال های ۱۹۹۲–۱۹۹۸تولید شده است. این خودرو در کلاس خودرو کی قرار گرفته، طراحی آن موتور جلو، خودرو محور جلو، خودرو چهار چرخ محرک بوده طول آن در حالت طبیعی ، عرض آن در حالت طبیعی ، ارتفاع آن در حالت طبیعی ، وزن آن در حالت طبیعی ، است.سیستم جعبه دندهٔ آن ۳، دنده به دو صورت خودکار و دستی است.'"
            ]
          },
          "metadata": {
            "tags": []
          },
          "execution_count": 11
        }
      ]
    },
    {
      "cell_type": "code",
      "metadata": {
        "colab": {
          "base_uri": "https://localhost:8080/",
          "height": 69
        },
        "id": "rdl1XlGVuDMO",
        "outputId": "6ce8ea81-3143-4ed3-b9c7-116798b777ee"
      },
      "source": [
        "process(df.loc[13213, 'text'])"
      ],
      "execution_count": 12,
      "outputs": [
        {
          "output_type": "execute_result",
          "data": {
            "application/vnd.google.colaboratory.intrinsic+json": {
              "type": "string"
            },
            "text/plain": [
              "'سوبارو ویویو خودرویی است که در سال های ۱۹۹۲ ۱۹۹۸تولید شده است این خودرو در کلاس خودرو کی قرار گرفته طراحی آن موتور جلو خودرو محور جلو خودرو چهار چرخ محرک بوده طول آن در حالت طبیعی عرض آن در حالت طبیعی ارتفاع آن در حالت طبیعی وزن آن در حالت طبیعی است سیستم جعبه دنده آن ۳ دنده به دو صورت خودکار و دستی است'"
            ]
          },
          "metadata": {
            "tags": []
          },
          "execution_count": 12
        }
      ]
    },
    {
      "cell_type": "code",
      "metadata": {
        "colab": {
          "base_uri": "https://localhost:8080/"
        },
        "id": "vZu81hs7iMhm",
        "outputId": "f2d16306-55ef-4c98-91cc-a83e3a58f58c"
      },
      "source": [
        "%%time\n",
        "\n",
        "lines = df.text.to_list()\n",
        "lines = [process(line) for line in lines]"
      ],
      "execution_count": 13,
      "outputs": [
        {
          "output_type": "stream",
          "text": [
            "CPU times: user 15min 52s, sys: 2.08 s, total: 15min 54s\n",
            "Wall time: 15min 56s\n"
          ],
          "name": "stdout"
        }
      ]
    },
    {
      "cell_type": "code",
      "metadata": {
        "colab": {
          "base_uri": "https://localhost:8080/"
        },
        "id": "TtS9bNaRzDx3",
        "outputId": "11a417b2-83f0-425d-8a8d-182f49fcc9c9"
      },
      "source": [
        "words = [word for line in lines for word in re.findall(r'\\w+', line)]\n",
        "words = [word for word in words if not any(c.isdigit() for c in word) and len(word) > 1]\n",
        "len(words)"
      ],
      "execution_count": 15,
      "outputs": [
        {
          "output_type": "execute_result",
          "data": {
            "text/plain": [
              "31747056"
            ]
          },
          "metadata": {
            "tags": []
          },
          "execution_count": 15
        }
      ]
    },
    {
      "cell_type": "code",
      "metadata": {
        "colab": {
          "base_uri": "https://localhost:8080/"
        },
        "id": "cR-TbAGFjmpR",
        "outputId": "cc1a7234-6d8b-4d5b-e8ec-2116e6672400"
      },
      "source": [
        "words[:5]"
      ],
      "execution_count": 16,
      "outputs": [
        {
          "output_type": "execute_result",
          "data": {
            "text/plain": [
              "['تالار', 'اجتماعات', 'مربوط', 'به', 'دوره']"
            ]
          },
          "metadata": {
            "tags": []
          },
          "execution_count": 16
        }
      ]
    },
    {
      "cell_type": "code",
      "metadata": {
        "colab": {
          "base_uri": "https://localhost:8080/"
        },
        "id": "odByGoxGk0o3",
        "outputId": "63f7849e-f5b5-4e85-b98d-3dab471b849a"
      },
      "source": [
        "words[34000:34010]"
      ],
      "execution_count": 17,
      "outputs": [
        {
          "output_type": "execute_result",
          "data": {
            "text/plain": [
              "['دوران',\n",
              " 'های',\n",
              " 'تاریخی',\n",
              " 'پس',\n",
              " 'از',\n",
              " 'اسلام',\n",
              " 'است',\n",
              " 'در',\n",
              " 'شهرستان',\n",
              " 'ایرانشهر']"
            ]
          },
          "metadata": {
            "tags": []
          },
          "execution_count": 17
        }
      ]
    },
    {
      "cell_type": "code",
      "metadata": {
        "colab": {
          "base_uri": "https://localhost:8080/"
        },
        "id": "PgWntpP2k0mE",
        "outputId": "4355d28d-ec2d-4aad-b559-88dba889b12e"
      },
      "source": [
        "freq = dict(Counter(words))\n",
        "len(freq)"
      ],
      "execution_count": 25,
      "outputs": [
        {
          "output_type": "execute_result",
          "data": {
            "text/plain": [
              "300547"
            ]
          },
          "metadata": {
            "tags": []
          },
          "execution_count": 25
        }
      ]
    },
    {
      "cell_type": "code",
      "metadata": {
        "colab": {
          "base_uri": "https://localhost:8080/"
        },
        "id": "povVVd_zoO1o",
        "outputId": "1f3fa04a-4089-4dae-8bf4-59d8c32cf258"
      },
      "source": [
        "joblib.dump(freq, 'vocab_freq.gz', compress=7)"
      ],
      "execution_count": 33,
      "outputs": [
        {
          "output_type": "execute_result",
          "data": {
            "text/plain": [
              "['vocab_freq.gz']"
            ]
          },
          "metadata": {
            "tags": []
          },
          "execution_count": 33
        }
      ]
    },
    {
      "cell_type": "code",
      "metadata": {
        "id": "5ihZj57e9RbX"
      },
      "source": [
        ""
      ],
      "execution_count": null,
      "outputs": []
    },
    {
      "cell_type": "code",
      "metadata": {
        "id": "9Vm4E6sW9RYp"
      },
      "source": [
        ""
      ],
      "execution_count": null,
      "outputs": []
    }
  ]
}