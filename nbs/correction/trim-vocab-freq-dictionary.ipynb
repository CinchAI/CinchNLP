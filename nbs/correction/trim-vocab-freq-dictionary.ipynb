{
 "cells": [
  {
   "cell_type": "code",
   "execution_count": 22,
   "id": "unknown-toolbox",
   "metadata": {},
   "outputs": [],
   "source": [
    "from pathlib import Path\n",
    "import joblib\n",
    "import pandas as pd"
   ]
  },
  {
   "cell_type": "code",
   "execution_count": 5,
   "id": "favorite-ordering",
   "metadata": {},
   "outputs": [],
   "source": [
    "class config:\n",
    "    BASE_DIR = Path('.').absolute().parent.parent\n",
    "    MODULE_DIR = BASE_DIR / 'cinchnlp/correction'\n",
    "    DATA_DIR = MODULE_DIR / 'data'\n",
    "    FP_VOCAB = DATA_DIR / 'vocab_freq.gz'"
   ]
  },
  {
   "cell_type": "code",
   "execution_count": 6,
   "id": "amino-oliver",
   "metadata": {},
   "outputs": [
    {
     "data": {
      "text/plain": [
       "300547"
      ]
     },
     "execution_count": 6,
     "metadata": {},
     "output_type": "execute_result"
    }
   ],
   "source": [
    "freq = joblib.load(config.FP_VOCAB)\n",
    "len(freq)"
   ]
  },
  {
   "cell_type": "code",
   "execution_count": 41,
   "id": "corrected-burke",
   "metadata": {},
   "outputs": [],
   "source": [
    "# build a dataframe from vocab-freq dictionary\n",
    "freq_df = pd.DataFrame(zip(freq.keys(), freq.values()), columns=['key', 'value'])"
   ]
  },
  {
   "cell_type": "code",
   "execution_count": 42,
   "id": "arctic-subscription",
   "metadata": {},
   "outputs": [
    {
     "data": {
      "text/html": [
       "<div>\n",
       "<style scoped>\n",
       "    .dataframe tbody tr th:only-of-type {\n",
       "        vertical-align: middle;\n",
       "    }\n",
       "\n",
       "    .dataframe tbody tr th {\n",
       "        vertical-align: top;\n",
       "    }\n",
       "\n",
       "    .dataframe thead th {\n",
       "        text-align: right;\n",
       "    }\n",
       "</style>\n",
       "<table border=\"1\" class=\"dataframe\">\n",
       "  <thead>\n",
       "    <tr style=\"text-align: right;\">\n",
       "      <th></th>\n",
       "      <th>key</th>\n",
       "      <th>value</th>\n",
       "    </tr>\n",
       "  </thead>\n",
       "  <tbody>\n",
       "    <tr>\n",
       "      <th>0</th>\n",
       "      <td>تالار</td>\n",
       "      <td>1855</td>\n",
       "    </tr>\n",
       "    <tr>\n",
       "      <th>1</th>\n",
       "      <td>اجتماعات</td>\n",
       "      <td>288</td>\n",
       "    </tr>\n",
       "    <tr>\n",
       "      <th>2</th>\n",
       "      <td>مربوط</td>\n",
       "      <td>16448</td>\n",
       "    </tr>\n",
       "    <tr>\n",
       "      <th>3</th>\n",
       "      <td>به</td>\n",
       "      <td>1056462</td>\n",
       "    </tr>\n",
       "    <tr>\n",
       "      <th>4</th>\n",
       "      <td>دوره</td>\n",
       "      <td>36047</td>\n",
       "    </tr>\n",
       "  </tbody>\n",
       "</table>\n",
       "</div>"
      ],
      "text/plain": [
       "        key    value\n",
       "0     تالار     1855\n",
       "1  اجتماعات      288\n",
       "2     مربوط    16448\n",
       "3        به  1056462\n",
       "4      دوره    36047"
      ]
     },
     "execution_count": 42,
     "metadata": {},
     "output_type": "execute_result"
    }
   ],
   "source": [
    "freq_df.head()"
   ]
  },
  {
   "cell_type": "code",
   "execution_count": 43,
   "id": "serious-yeast",
   "metadata": {},
   "outputs": [
    {
     "data": {
      "text/plain": [
       "count    3.005470e+05\n",
       "mean     1.056309e+02\n",
       "std      4.601783e+03\n",
       "min      1.000000e+00\n",
       "25%      1.000000e+00\n",
       "50%      2.000000e+00\n",
       "75%      5.000000e+00\n",
       "max      1.330309e+06\n",
       "Name: value, dtype: float64"
      ]
     },
     "execution_count": 43,
     "metadata": {},
     "output_type": "execute_result"
    }
   ],
   "source": [
    "freq_df['value'].describe()"
   ]
  },
  {
   "cell_type": "code",
   "execution_count": 45,
   "id": "painful-notion",
   "metadata": {},
   "outputs": [
    {
     "data": {
      "text/plain": [
       "277711"
      ]
     },
     "execution_count": 45,
     "metadata": {},
     "output_type": "execute_result"
    }
   ],
   "source": [
    "# number of words with frequency of less than 50\n",
    "len(freq_df[freq_df['value'] < 50])"
   ]
  },
  {
   "cell_type": "code",
   "execution_count": 46,
   "id": "mechanical-architect",
   "metadata": {},
   "outputs": [
    {
     "data": {
      "text/plain": [
       "22836"
      ]
     },
     "execution_count": 46,
     "metadata": {},
     "output_type": "execute_result"
    }
   ],
   "source": [
    "# only keep words with frequency more than 50 and drop less frequent words\n",
    "freq_df = freq_df[freq_df['value'] >= 50]\n",
    "\n",
    "# number of remaining words in vocab\n",
    "len(freq_df)"
   ]
  },
  {
   "cell_type": "code",
   "execution_count": 49,
   "id": "funky-approach",
   "metadata": {},
   "outputs": [],
   "source": [
    "# build a vocab-freq dictionary from the trimmed dataframe\n",
    "freq = {k:v for k, v in zip(freq_df['key'].values, freq_df['value'].values)}"
   ]
  },
  {
   "cell_type": "code",
   "execution_count": 54,
   "id": "sexual-angle",
   "metadata": {},
   "outputs": [
    {
     "data": {
      "text/plain": [
       "['/home/reza/Academy/Projects/CinchAI/CinchNLP/cinchnlp/correction/data/vocab_freq.gz']"
      ]
     },
     "execution_count": 54,
     "metadata": {},
     "output_type": "execute_result"
    }
   ],
   "source": [
    "# save the vocab-freq dictionary\n",
    "joblib.dump(freq, config.FP_VOCAB)"
   ]
  },
  {
   "cell_type": "code",
   "execution_count": null,
   "id": "adapted-jason",
   "metadata": {},
   "outputs": [],
   "source": []
  },
  {
   "cell_type": "code",
   "execution_count": null,
   "id": "above-track",
   "metadata": {},
   "outputs": [],
   "source": []
  }
 ],
 "metadata": {
  "kernelspec": {
   "display_name": "Python 3",
   "language": "python",
   "name": "python3"
  },
  "language_info": {
   "codemirror_mode": {
    "name": "ipython",
    "version": 3
   },
   "file_extension": ".py",
   "mimetype": "text/x-python",
   "name": "python",
   "nbconvert_exporter": "python",
   "pygments_lexer": "ipython3",
   "version": "3.7.9"
  }
 },
 "nbformat": 4,
 "nbformat_minor": 5
}
