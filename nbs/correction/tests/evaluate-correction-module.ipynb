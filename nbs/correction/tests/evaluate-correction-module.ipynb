{
 "cells": [
  {
   "cell_type": "code",
   "execution_count": 1,
   "id": "considered-communications",
   "metadata": {},
   "outputs": [],
   "source": [
    "from pathlib import Path\n",
    "import sys\n",
    "import importlib\n",
    "import re\n",
    "from nltk.tokenize import word_tokenize"
   ]
  },
  {
   "cell_type": "code",
   "execution_count": 2,
   "id": "anonymous-small",
   "metadata": {},
   "outputs": [],
   "source": [
    "class config:\n",
    "    BASE_DIR = Path('.').absolute().parent.parent.parent\n",
    "    MODULE_DIR = BASE_DIR / 'cinchnlp/correction'"
   ]
  },
  {
   "cell_type": "code",
   "execution_count": 3,
   "id": "sensitive-emergency",
   "metadata": {},
   "outputs": [
    {
     "name": "stdout",
     "output_type": "stream",
     "text": [
      "_auto_correct.py  data\t__init__.py  __pycache__\r\n"
     ]
    }
   ],
   "source": [
    "!ls {config.MODULE_DIR}"
   ]
  },
  {
   "cell_type": "code",
   "execution_count": 4,
   "id": "widespread-guitar",
   "metadata": {},
   "outputs": [],
   "source": [
    "# add the module path \n",
    "sys.path.append(str(config.MODULE_DIR))\n",
    "import _auto_correct"
   ]
  },
  {
   "cell_type": "code",
   "execution_count": null,
   "id": "consolidated-beauty",
   "metadata": {},
   "outputs": [],
   "source": [
    "# reload the module when modified\n",
    "# importlib.reload(_auto_correct)"
   ]
  },
  {
   "cell_type": "code",
   "execution_count": 17,
   "id": "described-protection",
   "metadata": {},
   "outputs": [],
   "source": [
    "# initializing\n",
    "f = _auto_correct.Correction()"
   ]
  },
  {
   "cell_type": "code",
   "execution_count": 20,
   "id": "racial-italian",
   "metadata": {},
   "outputs": [],
   "source": [
    "s = 'ایش متن حاویی غلط های املایی بوده است, که توشظ این نرم افزار تسحیح شذه اشت.'"
   ]
  },
  {
   "cell_type": "code",
   "execution_count": 13,
   "id": "accessory-warrior",
   "metadata": {},
   "outputs": [
    {
     "name": "stdout",
     "output_type": "stream",
     "text": [
      "CPU times: user 828 ms, sys: 0 ns, total: 828 ms\n",
      "Wall time: 829 ms\n"
     ]
    },
    {
     "data": {
      "text/plain": [
       "'این متن حاوی غلط های املایی بوده است , که توشظ این نرم افزار تصحیح شده است .'"
      ]
     },
     "execution_count": 13,
     "metadata": {},
     "output_type": "execute_result"
    }
   ],
   "source": [
    "%%time\n",
    "\n",
    "f.auto_correct(s)"
   ]
  },
  {
   "cell_type": "code",
   "execution_count": 19,
   "id": "approximate-tiffany",
   "metadata": {},
   "outputs": [
    {
     "name": "stdout",
     "output_type": "stream",
     "text": [
      "CPU times: user 18.3 s, sys: 24 µs, total: 18.3 s\n",
      "Wall time: 18.3 s\n"
     ]
    },
    {
     "data": {
      "text/plain": [
       "[('توسط', 0.0015968261193309216),\n",
       " ('توان', 0.0010786249417105566),\n",
       " ('توجه', 0.0006056926659531082)]"
      ]
     },
     "execution_count": 19,
     "metadata": {},
     "output_type": "execute_result"
    }
   ],
   "source": [
    "%%time\n",
    "f.get_corrections('توشظ', n=3)"
   ]
  },
  {
   "cell_type": "code",
   "execution_count": null,
   "id": "significant-heart",
   "metadata": {},
   "outputs": [],
   "source": []
  }
 ],
 "metadata": {
  "kernelspec": {
   "display_name": "Python 3",
   "language": "python",
   "name": "python3"
  },
  "language_info": {
   "codemirror_mode": {
    "name": "ipython",
    "version": 3
   },
   "file_extension": ".py",
   "mimetype": "text/x-python",
   "name": "python",
   "nbconvert_exporter": "python",
   "pygments_lexer": "ipython3",
   "version": "3.7.9"
  }
 },
 "nbformat": 4,
 "nbformat_minor": 5
}
